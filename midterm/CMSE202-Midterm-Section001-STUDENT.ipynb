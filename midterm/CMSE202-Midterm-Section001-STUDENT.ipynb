{
 "cells": [
  {
   "cell_type": "markdown",
   "id": "ed6dc047",
   "metadata": {
    "tags": []
   },
   "source": [
    "# CMSE 202 Midterm (Section 001 - Spring 2024)\n",
    "\n",
    "The goal of this midterm is to give you the opportunity to test out some of the skills that you've developed thus far this semester. In particular, you'll practice setting up a GitHub repository, committing and pushing repository changes, downloading data with command line tools, performing some data analysis, possibly using a new Python package, and writing a python class. You should find that you have all of the skills necessary to complete this exam with even just eight weeks of CMSE 202 under your belt!\n",
    "\n",
    "You are encouraged to look through the entire exam before you get started so that you can appropriately budget your time and understand the broad goals of the exam. Once you've read through it, try doing Parts 0 and 1 first so that you have your repository set up and you download all necessary data files as they will be necessary to complete the assigned tasks. Let your instructor know right away if you have problems downloading the data!\n",
    "\n",
    "The exam is set up so that even if you get stuck on one part there are opportunities to get points on the other parts, so consider jumping ahead if you feel like you aren't making progress and then come back later if you have time. If you have any questions during the exam, you may ask the instructor, the TA, or the LA privately: simply raise your hand and one of us will come over to you. \n",
    "\n",
    "\n",
    "**Important note about using online resources**: This exam is \"open internet\". That means that you can look up documentation, google how to accomplish certain Python tasks, etc. Being able to effectively use the internet for computational modeling and data science is a very important skill, so we want to make sure you have the opportunity to exercise that skill. **However: The use of any person-to-person communication software or generative AI tools is absolutely not acceptable.** If you are seen accessing your email, using a collaborative cloud storage or document software (e.g. Slack, Google Documents), or generative AIs (e.g. ChatGPT), you will be at risk for receiving a zero on the exam.\n",
    "\n",
    "**Keep your eyes on your screen!** Unfortunately, there isn't enough space in the room for everyone to sit at their own table so please do your best to keep your eyes on your own screen. This exam is designed to give *you* the opportunity to show the instructor what you can do and you should hold yourself accountable for maintaining a high level of academic integrity. If any of the instructors observe suspicious behavior, you will, again, risk receiving a zero."
   ]
  },
  {
   "cell_type": "markdown",
   "id": "537d5a5e",
   "metadata": {},
   "source": [
    "---\n",
    "## Part 0: Academic integrity statement\n",
    "\n",
    "Read the following statement and edit the markdown text to put your name in the statement. This is your commitment to doing your own authentic work on this exam."
   ]
  },
  {
   "cell_type": "markdown",
   "id": "d5f1719f",
   "metadata": {
    "pycharm": {
     "name": "#%% md\n"
    }
   },
   "source": [
    "> I, **Ekow Yalley**, affirm that this exam represents my own authetic work, without the use of any unpermitted aids or generative AIs or person-to-person communication. I understand that this exam is an opportunity to showcase my own progress in developing and improving my computational skills and have done my best to demonstrate those skills."
   ]
  },
  {
   "cell_type": "markdown",
   "id": "bd1bcb33",
   "metadata": {
    "tags": []
   },
   "source": [
    "## Part 1: Add to your Git repository to track your progress on your exam (9 points total)\n",
    "\n",
    "Before you get to far along in the exam, you're going to add it to the `cmse202-s24-turnin` repository you created in class (or in Homework 1) so that you can track your progress on the exam and preserve the final version that you turn in. In order to do this you need to\n",
    "\n",
    "1. Navigate to your `cmse202-s24-turnin` repository and create a new directory called `midterm`.\n",
    "2. Move this notebook into that **new directory** in your repository, then **add it and commit it to your repository**.\n",
    "3. Finally, to test that everything is working, \"git push\" the file so that it ends up in your GitHub repository.\n",
    "\n",
    "**Important**: Double check you've added your Professor and your TA as collaborators to your \"turnin\" respository (you should have done this in the previous homework assignment).\n",
    "\n",
    "**Important**: Make sure that the version of this notebook that you are working on is the same one that you just added to your repository! If you are working on a different copy of the noteobok, **none of your changes will be tracked**!\n",
    "\n",
    "The file should now show up on your GitHub account in the `cmse202-s24-turnin` repository inside the `midterm` directory you just created.  Periodically, **you'll be asked to commit your changes to the repository and push them to the remote GitHub location**. It can be good to get into a habit of committing your changes any time you make a significant modification."
   ]
  },
  {
   "cell_type": "markdown",
   "id": "79c6457b",
   "metadata": {},
   "source": [
    "&#9989; **Question 1.1 (1 points)**:\n",
    "What is the Unix command to create a new directory named 'midterm' in the current folder?"
   ]
  },
  {
   "cell_type": "code",
   "execution_count": null,
   "id": "fdafd3ac",
   "metadata": {},
   "outputs": [],
   "source": [
    "### Put your code here:\n",
    "mkdir"
   ]
  },
  {
   "cell_type": "markdown",
   "id": "3783a4bf",
   "metadata": {},
   "source": [
    "&#9989; **Question 1.2 (2 points)**:\n",
    "What is the Git command to add and commit the changes after adding this notebook to the 'midterm' directory?"
   ]
  },
  {
   "cell_type": "code",
   "execution_count": null,
   "id": "54a7393f",
   "metadata": {},
   "outputs": [],
   "source": [
    "### Put your code here:\n",
    "git add\n",
    "git commit\n"
   ]
  },
  {
   "cell_type": "markdown",
   "id": "d6b284fa",
   "metadata": {},
   "source": [
    "&#9989; **Question 1.3 (1 points)**:\n",
    "\n",
    "What is the Git command to push the changes to the GitHub repository?"
   ]
  },
  {
   "cell_type": "code",
   "execution_count": null,
   "id": "5cb61089",
   "metadata": {},
   "outputs": [],
   "source": [
    "### Put your code here:\n",
    "git push"
   ]
  },
  {
   "cell_type": "markdown",
   "id": "9271279d",
   "metadata": {},
   "source": [
    "&#9989; **Question 1.4 (1 points)**:\n",
    "\n",
    "What is the Git command your instructor should run to clone your repository?"
   ]
  },
  {
   "cell_type": "code",
   "execution_count": null,
   "id": "47151780",
   "metadata": {},
   "outputs": [],
   "source": [
    "### Put your code here:\n",
    "git clone <github link>"
   ]
  },
  {
   "cell_type": "markdown",
   "id": "169f8348",
   "metadata": {},
   "source": [
    "&#9989; **Question 1.5 (4 points)**: After completing each of Part 2, Part 3, and Part 4 below, save your notebook, commit the changes to your Git repository using a descriptive commit message, and push the changes to GitHub. Note that there are large &#128721; **STOP** signs reminding you to do this after each part."
   ]
  },
  {
   "cell_type": "markdown",
   "id": "42923336",
   "metadata": {},
   "source": [
    "## Part 2: Downloading and analyzing unfamiliar data (15 points)\n",
    "\n",
    "In this part, you will load and visualize a dataset that you probably have not used before. In particular, you will be working with the \"penguins.csv\" dataset from this link: https://raw.githubusercontent.com/yangy5/HWFiles/main/penguins.csv"
   ]
  },
  {
   "cell_type": "markdown",
   "id": "ea2067b2",
   "metadata": {},
   "source": [
    "&#9989; **Question 2.1 (1 points)**:\n",
    "What is the Unix command we have learned in this course that can be used to download the data? Write down the full command including the url."
   ]
  },
  {
   "cell_type": "code",
   "execution_count": null,
   "id": "a0a91632",
   "metadata": {},
   "outputs": [],
   "source": [
    "### Put your code here:\n",
    "git add\n"
   ]
  },
  {
   "cell_type": "markdown",
   "id": "4dbef15d",
   "metadata": {},
   "source": [
    "&#9989; **Question 2.2 (3 points)**: Load the 'penguins.csv' file as a Pandas data frame called \"df\", then display this data frame.\n",
    "\n",
    "**Hint:** .data file can be loaded the same way as .csv file using Pandas."
   ]
  },
  {
   "cell_type": "code",
   "execution_count": 3,
   "id": "0b68197d",
   "metadata": {},
   "outputs": [
    {
     "data": {
      "text/html": [
       "<div>\n",
       "<style scoped>\n",
       "    .dataframe tbody tr th:only-of-type {\n",
       "        vertical-align: middle;\n",
       "    }\n",
       "\n",
       "    .dataframe tbody tr th {\n",
       "        vertical-align: top;\n",
       "    }\n",
       "\n",
       "    .dataframe thead th {\n",
       "        text-align: right;\n",
       "    }\n",
       "</style>\n",
       "<table border=\"1\" class=\"dataframe\">\n",
       "  <thead>\n",
       "    <tr style=\"text-align: right;\">\n",
       "      <th></th>\n",
       "      <th>studyName</th>\n",
       "      <th>Sample Number</th>\n",
       "      <th>Species</th>\n",
       "      <th>Region</th>\n",
       "      <th>Island</th>\n",
       "      <th>Stage</th>\n",
       "      <th>Individual ID</th>\n",
       "      <th>Clutch Completion</th>\n",
       "      <th>Date Egg</th>\n",
       "      <th>Culmen Length (mm)</th>\n",
       "      <th>Culmen Depth (mm)</th>\n",
       "      <th>Flipper Length (mm)</th>\n",
       "      <th>Body Mass (g)</th>\n",
       "      <th>Sex</th>\n",
       "    </tr>\n",
       "  </thead>\n",
       "  <tbody>\n",
       "    <tr>\n",
       "      <th>0</th>\n",
       "      <td>PAL0708</td>\n",
       "      <td>1</td>\n",
       "      <td>Adelie Penguin (Pygoscelis adeliae)</td>\n",
       "      <td>Anvers</td>\n",
       "      <td>Torgersen</td>\n",
       "      <td>Adult, 1 Egg Stage</td>\n",
       "      <td>N1A1</td>\n",
       "      <td>Yes</td>\n",
       "      <td>2007-11-11</td>\n",
       "      <td>39.1</td>\n",
       "      <td>18.7</td>\n",
       "      <td>181</td>\n",
       "      <td>3750</td>\n",
       "      <td>MALE</td>\n",
       "    </tr>\n",
       "    <tr>\n",
       "      <th>1</th>\n",
       "      <td>PAL0708</td>\n",
       "      <td>2</td>\n",
       "      <td>Adelie Penguin (Pygoscelis adeliae)</td>\n",
       "      <td>Anvers</td>\n",
       "      <td>Torgersen</td>\n",
       "      <td>Adult, 1 Egg Stage</td>\n",
       "      <td>N1A2</td>\n",
       "      <td>Yes</td>\n",
       "      <td>2007-11-11</td>\n",
       "      <td>39.5</td>\n",
       "      <td>17.4</td>\n",
       "      <td>186</td>\n",
       "      <td>3800</td>\n",
       "      <td>FEMALE</td>\n",
       "    </tr>\n",
       "    <tr>\n",
       "      <th>2</th>\n",
       "      <td>PAL0708</td>\n",
       "      <td>3</td>\n",
       "      <td>Adelie Penguin (Pygoscelis adeliae)</td>\n",
       "      <td>Anvers</td>\n",
       "      <td>Torgersen</td>\n",
       "      <td>Adult, 1 Egg Stage</td>\n",
       "      <td>N2A1</td>\n",
       "      <td>Yes</td>\n",
       "      <td>2007-11-16</td>\n",
       "      <td>40.3</td>\n",
       "      <td>18.0</td>\n",
       "      <td>195</td>\n",
       "      <td>3250</td>\n",
       "      <td>FEMALE</td>\n",
       "    </tr>\n",
       "    <tr>\n",
       "      <th>3</th>\n",
       "      <td>PAL0708</td>\n",
       "      <td>4</td>\n",
       "      <td>Adelie Penguin (Pygoscelis adeliae)</td>\n",
       "      <td>Anvers</td>\n",
       "      <td>Torgersen</td>\n",
       "      <td>Adult, 1 Egg Stage</td>\n",
       "      <td>N2A2</td>\n",
       "      <td>Yes</td>\n",
       "      <td>2007-11-16</td>\n",
       "      <td>37.6</td>\n",
       "      <td>18.5</td>\n",
       "      <td>188</td>\n",
       "      <td>3500</td>\n",
       "      <td>MALE</td>\n",
       "    </tr>\n",
       "    <tr>\n",
       "      <th>4</th>\n",
       "      <td>PAL0708</td>\n",
       "      <td>5</td>\n",
       "      <td>Adelie Penguin (Pygoscelis adeliae)</td>\n",
       "      <td>Anvers</td>\n",
       "      <td>Torgersen</td>\n",
       "      <td>Adult, 1 Egg Stage</td>\n",
       "      <td>N3A1</td>\n",
       "      <td>Yes</td>\n",
       "      <td>2007-11-16</td>\n",
       "      <td>36.7</td>\n",
       "      <td>19.3</td>\n",
       "      <td>193</td>\n",
       "      <td>3450</td>\n",
       "      <td>FEMALE</td>\n",
       "    </tr>\n",
       "    <tr>\n",
       "      <th>...</th>\n",
       "      <td>...</td>\n",
       "      <td>...</td>\n",
       "      <td>...</td>\n",
       "      <td>...</td>\n",
       "      <td>...</td>\n",
       "      <td>...</td>\n",
       "      <td>...</td>\n",
       "      <td>...</td>\n",
       "      <td>...</td>\n",
       "      <td>...</td>\n",
       "      <td>...</td>\n",
       "      <td>...</td>\n",
       "      <td>...</td>\n",
       "      <td>...</td>\n",
       "    </tr>\n",
       "    <tr>\n",
       "      <th>338</th>\n",
       "      <td>PAL0910</td>\n",
       "      <td>64</td>\n",
       "      <td>Chinstrap penguin (Pygoscelis antarctica)</td>\n",
       "      <td>Anvers</td>\n",
       "      <td>Dream</td>\n",
       "      <td>Adult, 1 Egg Stage</td>\n",
       "      <td>N98A2</td>\n",
       "      <td>Yes</td>\n",
       "      <td>2009-11-19</td>\n",
       "      <td>55.8</td>\n",
       "      <td>19.8</td>\n",
       "      <td>207</td>\n",
       "      <td>4000</td>\n",
       "      <td>MALE</td>\n",
       "    </tr>\n",
       "    <tr>\n",
       "      <th>339</th>\n",
       "      <td>PAL0910</td>\n",
       "      <td>65</td>\n",
       "      <td>Chinstrap penguin (Pygoscelis antarctica)</td>\n",
       "      <td>Anvers</td>\n",
       "      <td>Dream</td>\n",
       "      <td>Adult, 1 Egg Stage</td>\n",
       "      <td>N99A1</td>\n",
       "      <td>No</td>\n",
       "      <td>2009-11-21</td>\n",
       "      <td>43.5</td>\n",
       "      <td>18.1</td>\n",
       "      <td>202</td>\n",
       "      <td>3400</td>\n",
       "      <td>FEMALE</td>\n",
       "    </tr>\n",
       "    <tr>\n",
       "      <th>340</th>\n",
       "      <td>PAL0910</td>\n",
       "      <td>66</td>\n",
       "      <td>Chinstrap penguin (Pygoscelis antarctica)</td>\n",
       "      <td>Anvers</td>\n",
       "      <td>Dream</td>\n",
       "      <td>Adult, 1 Egg Stage</td>\n",
       "      <td>N99A2</td>\n",
       "      <td>No</td>\n",
       "      <td>2009-11-21</td>\n",
       "      <td>49.6</td>\n",
       "      <td>18.2</td>\n",
       "      <td>193</td>\n",
       "      <td>3775</td>\n",
       "      <td>MALE</td>\n",
       "    </tr>\n",
       "    <tr>\n",
       "      <th>341</th>\n",
       "      <td>PAL0910</td>\n",
       "      <td>67</td>\n",
       "      <td>Chinstrap penguin (Pygoscelis antarctica)</td>\n",
       "      <td>Anvers</td>\n",
       "      <td>Dream</td>\n",
       "      <td>Adult, 1 Egg Stage</td>\n",
       "      <td>N100A1</td>\n",
       "      <td>Yes</td>\n",
       "      <td>2009-11-21</td>\n",
       "      <td>50.8</td>\n",
       "      <td>19.0</td>\n",
       "      <td>210</td>\n",
       "      <td>4100</td>\n",
       "      <td>MALE</td>\n",
       "    </tr>\n",
       "    <tr>\n",
       "      <th>342</th>\n",
       "      <td>PAL0910</td>\n",
       "      <td>68</td>\n",
       "      <td>Chinstrap penguin (Pygoscelis antarctica)</td>\n",
       "      <td>Anvers</td>\n",
       "      <td>Dream</td>\n",
       "      <td>Adult, 1 Egg Stage</td>\n",
       "      <td>N100A2</td>\n",
       "      <td>Yes</td>\n",
       "      <td>2009-11-21</td>\n",
       "      <td>50.2</td>\n",
       "      <td>18.7</td>\n",
       "      <td>198</td>\n",
       "      <td>3775</td>\n",
       "      <td>FEMALE</td>\n",
       "    </tr>\n",
       "  </tbody>\n",
       "</table>\n",
       "<p>343 rows × 14 columns</p>\n",
       "</div>"
      ],
      "text/plain": [
       "    studyName  Sample Number                                    Species  \\\n",
       "0     PAL0708              1        Adelie Penguin (Pygoscelis adeliae)   \n",
       "1     PAL0708              2        Adelie Penguin (Pygoscelis adeliae)   \n",
       "2     PAL0708              3        Adelie Penguin (Pygoscelis adeliae)   \n",
       "3     PAL0708              4        Adelie Penguin (Pygoscelis adeliae)   \n",
       "4     PAL0708              5        Adelie Penguin (Pygoscelis adeliae)   \n",
       "..        ...            ...                                        ...   \n",
       "338   PAL0910             64  Chinstrap penguin (Pygoscelis antarctica)   \n",
       "339   PAL0910             65  Chinstrap penguin (Pygoscelis antarctica)   \n",
       "340   PAL0910             66  Chinstrap penguin (Pygoscelis antarctica)   \n",
       "341   PAL0910             67  Chinstrap penguin (Pygoscelis antarctica)   \n",
       "342   PAL0910             68  Chinstrap penguin (Pygoscelis antarctica)   \n",
       "\n",
       "     Region     Island               Stage Individual ID Clutch Completion  \\\n",
       "0    Anvers  Torgersen  Adult, 1 Egg Stage          N1A1               Yes   \n",
       "1    Anvers  Torgersen  Adult, 1 Egg Stage          N1A2               Yes   \n",
       "2    Anvers  Torgersen  Adult, 1 Egg Stage          N2A1               Yes   \n",
       "3    Anvers  Torgersen  Adult, 1 Egg Stage          N2A2               Yes   \n",
       "4    Anvers  Torgersen  Adult, 1 Egg Stage          N3A1               Yes   \n",
       "..      ...        ...                 ...           ...               ...   \n",
       "338  Anvers      Dream  Adult, 1 Egg Stage         N98A2               Yes   \n",
       "339  Anvers      Dream  Adult, 1 Egg Stage         N99A1                No   \n",
       "340  Anvers      Dream  Adult, 1 Egg Stage         N99A2                No   \n",
       "341  Anvers      Dream  Adult, 1 Egg Stage        N100A1               Yes   \n",
       "342  Anvers      Dream  Adult, 1 Egg Stage        N100A2               Yes   \n",
       "\n",
       "       Date Egg  Culmen Length (mm)  Culmen Depth (mm)  Flipper Length (mm)  \\\n",
       "0    2007-11-11                39.1               18.7                  181   \n",
       "1    2007-11-11                39.5               17.4                  186   \n",
       "2    2007-11-16                40.3               18.0                  195   \n",
       "3    2007-11-16                37.6               18.5                  188   \n",
       "4    2007-11-16                36.7               19.3                  193   \n",
       "..          ...                 ...                ...                  ...   \n",
       "338  2009-11-19                55.8               19.8                  207   \n",
       "339  2009-11-21                43.5               18.1                  202   \n",
       "340  2009-11-21                49.6               18.2                  193   \n",
       "341  2009-11-21                50.8               19.0                  210   \n",
       "342  2009-11-21                50.2               18.7                  198   \n",
       "\n",
       "     Body Mass (g)     Sex  \n",
       "0             3750    MALE  \n",
       "1             3800  FEMALE  \n",
       "2             3250  FEMALE  \n",
       "3             3500    MALE  \n",
       "4             3450  FEMALE  \n",
       "..             ...     ...  \n",
       "338           4000    MALE  \n",
       "339           3400  FEMALE  \n",
       "340           3775    MALE  \n",
       "341           4100    MALE  \n",
       "342           3775  FEMALE  \n",
       "\n",
       "[343 rows x 14 columns]"
      ]
     },
     "execution_count": 3,
     "metadata": {},
     "output_type": "execute_result"
    }
   ],
   "source": [
    "### Put your code here:\n",
    "import pandas as pd\n",
    "df=pd.read_csv(\"penguins.csv\")\n",
    "df"
   ]
  },
  {
   "cell_type": "markdown",
   "id": "ce7ba3a6",
   "metadata": {},
   "source": [
    "&#9989; **Question 2.3 (3 points)**: Create a scatter plot of the 'Flipper Length (mm)' column (x-axis) vs 'Body Mass (g)' column (y-axis). \n"
   ]
  },
  {
   "cell_type": "code",
   "execution_count": 4,
   "id": "1973d057",
   "metadata": {},
   "outputs": [
    {
     "data": {
      "text/plain": [
       "<matplotlib.collections.PathCollection at 0x7fd4aa6f3690>"
      ]
     },
     "execution_count": 4,
     "metadata": {},
     "output_type": "execute_result"
    },
    {
     "data": {
      "image/png": "[encoded data removed]",
      "text/plain": [
       "<Figure size 640x480 with 1 Axes>"
      ]
     },
     "metadata": {},
     "output_type": "display_data"
    }
   ],
   "source": [
    "### Put your code here:\n",
    "import matplotlib.pyplot as plt\n",
    "plt.scatter(df[\"Flipper Length (mm)\"],df[\"Body Mass (g)\"])"
   ]
  },
  {
   "cell_type": "markdown",
   "id": "43a10d2d",
   "metadata": {},
   "source": [
    "&#9989; **Question 2.4 (3 points)**: Select only the Adelie penguins and store in a new data frame called \"df_adelie\", then display the new data frame."
   ]
  },
  {
   "cell_type": "code",
   "execution_count": 8,
   "id": "7f03f64f",
   "metadata": {},
   "outputs": [],
   "source": [
    "### Put your code here\n",
    "\n",
    "df_adelie=df[df['Species']=='Adelie Penguin (Pygoscelis adeliae)']"
   ]
  },
  {
   "cell_type": "markdown",
   "id": "df558ab2",
   "metadata": {},
   "source": [
    "&#9989; **Question 2.5 (2 points)**: List all the islands where the Adelie penguins live using the 'unique' method for data frames."
   ]
  },
  {
   "cell_type": "code",
   "execution_count": 9,
   "id": "4c7bcbd0",
   "metadata": {},
   "outputs": [
    {
     "data": {
      "text/plain": [
       "array(['Torgersen', 'Biscoe', 'Dream'], dtype=object)"
      ]
     },
     "execution_count": 9,
     "metadata": {},
     "output_type": "execute_result"
    }
   ],
   "source": [
    "### Put your code here\n",
    "\n",
    "df_adelie[\"Island\"].unique()"
   ]
  },
  {
   "cell_type": "markdown",
   "id": "9553b937",
   "metadata": {},
   "source": [
    "&#9989; **Question 2.6 (3 points)**: Find the maximum and minimum 'Body Mass (g)' for *female Adelie* penguins using the 'max' and 'min' method for data frames."
   ]
  },
  {
   "cell_type": "code",
   "execution_count": 14,
   "id": "efbbd10e",
   "metadata": {},
   "outputs": [
    {
     "name": "stdout",
     "output_type": "stream",
     "text": [
      "4775\n",
      "2850\n"
     ]
    }
   ],
   "source": [
    "### Put your code here\n",
    "max=df_adelie[\"Body Mass (g)\"].max()\n",
    "min=df_adelie[\"Body Mass (g)\"].min()\n",
    "print(max)\n",
    "print(min)\n"
   ]
  },
  {
   "cell_type": "markdown",
   "id": "bf99f0f3",
   "metadata": {
    "jp-MarkdownHeadingCollapsed": true,
    "tags": []
   },
   "source": [
    "---\n",
    "### &#128721; STOP (1 point)\n",
    "**Pause to commit your changes to your Git repository!**\n",
    "\n",
    "Take a moment to save your notebook, commit  and push the changes to your Git repository.\n",
    "\n",
    "---"
   ]
  },
  {
   "cell_type": "markdown",
   "id": "ad25332c",
   "metadata": {
    "tags": []
   },
   "source": [
    "## Part 3: Working with a new Python package (12 points)\n",
    "\n",
    "In this part, you will install a Python package that you probably have not used before, and use it to perform a simple task. Specifically, you will use a package called `scikit-image` to simulate medical CT scans. The documentation for the `scikit-image` package can be found at https://scikit-image.org/. If you are not sure what CT scans are, here is the wikipedia article: https://en.wikipedia.org/wiki/CT_scan.\n",
    "\n",
    "The full name for CT is 'computed tomography'. In a CT scan, beams of X-ray are sent to the patient from various directions. As a beam travels through, its intensity drops due to absorption by tissue. A CT machine is designed to measure such intensity drops, then algorithms are applied to non-destructively image the internal structure of the patient. The mapping that transforms the internal structure to the intensity drops is known as the *Radon transform* (https://en.wikipedia.org/wiki/Radon_transform). The CT scan data is known as *sinograms*. We will explore the Radon transform using the `scikit-image` package.\n"
   ]
  },
  {
   "cell_type": "markdown",
   "id": "67367931",
   "metadata": {},
   "source": [
    "\n",
    "We will use a Spartan logo for the experiments below. Download this image \"spartan.jpg\" from:\n",
    "\n",
    "`https://raw.githubusercontent.com/yangy5/HWFiles/main/spartan.jpg`\n",
    "\n",
    "and place it in your current folder. We will take a \"CT scan\" (i.e., Radon transform) of the Spartan logo.\n"
   ]
  },
  {
   "cell_type": "markdown",
   "id": "fdefb63e",
   "metadata": {},
   "source": [
    "&#9989; **Question 3.1 (1 points):** If the 'scikit-image' package has not been installed, which Unix command would you use to install it?"
   ]
  },
  {
   "cell_type": "code",
   "execution_count": null,
   "id": "eed292d6",
   "metadata": {},
   "outputs": [],
   "source": [
    "# Put your code here\n",
    "\n"
   ]
  },
  {
   "cell_type": "markdown",
   "id": "e2460afa",
   "metadata": {},
   "source": [
    "&#9989; **Question 3.2 (3 points):** Find a function or method in the 'scikit-image' package to display the image \"spartan.jpg\"."
   ]
  },
  {
   "cell_type": "code",
   "execution_count": null,
   "id": "da9c14a3",
   "metadata": {},
   "outputs": [],
   "source": [
    "# Put your code here\n",
    "\n"
   ]
  },
  {
   "cell_type": "markdown",
   "id": "b6e6bf4a",
   "metadata": {},
   "source": [
    "&#9989; **Question 3.3 (4 points):** Dig into the 'scikit-image' package to find a function that takes the Radon transform of a given image. Apply this to the Spartan logo to generate its CT scans. You should end up with an image that looks similar to this:\n",
    "\n",
    "<img src=https://i.imgur.com/xxESJSK.png>"
   ]
  },
  {
   "cell_type": "code",
   "execution_count": null,
   "id": "cd295126",
   "metadata": {},
   "outputs": [],
   "source": [
    "# Put your code here\n",
    "\n"
   ]
  },
  {
   "cell_type": "markdown",
   "id": "d986784e",
   "metadata": {},
   "source": [
    "In a real CT scan, one has no access to the true image \"spartan.jpg\" but only to its sinogram. The ultimate goal in CT is to reconstruct the image (e.g. spartan.jpg) from its sinogram. The reconstruction can be achieved in a variety of approaches. One of them is an iterative algorithm known as the *Simultaneous Algebraic Reconstruction Techinque (SART)*. The package `scikit-image` contains implementation of the SART algorithm. \n",
    "\n",
    "&#9989; **Question 3.4 (4 points):** Read the documentation and implement the first iteration of SART. Show the reconstructed image and the reconstruction error between the true image and the reconstructed image."
   ]
  },
  {
   "cell_type": "code",
   "execution_count": null,
   "id": "dc385119",
   "metadata": {},
   "outputs": [],
   "source": [
    "# Put your code here\n",
    "\n"
   ]
  },
  {
   "cell_type": "markdown",
   "id": "b9dc5c4a",
   "metadata": {
    "jp-MarkdownHeadingCollapsed": true,
    "tags": []
   },
   "source": [
    "---\n",
    "### &#128721; STOP (1 point)\n",
    "**Pause to commit your changes to your Git repository!**\n",
    "\n",
    "Take a moment to save your notebook, commit  and push the changes to your Git repository.\n",
    "\n",
    "---"
   ]
  },
  {
   "cell_type": "markdown",
   "id": "224f7b2b",
   "metadata": {},
   "source": [
    "## Part 4: Writing a simple Python class (18 points)"
   ]
  },
  {
   "cell_type": "markdown",
   "id": "401efee7",
   "metadata": {},
   "source": [
    "In this part we will write a simple python class. For this part, N is a positive integer.\n",
    "\n",
    "\n",
    "A company has a team of (N+1) employees, including N team members and 1 supervisor. Each member is simultaneously working on 3 projects. The projects are named as 0, 1, and 2, respectively. A member's current progress on a given project is a random floating number between 0 and 100.\n",
    "\n",
    "\n",
    "A class called \"Employee\" is given below. Each employee has an attribute 'name' (type: string) and a method which can print the text \" XXX is in the team.\" where XXX is the name of the employee."
   ]
  },
  {
   "cell_type": "code",
   "execution_count": null,
   "id": "57a4cbf0",
   "metadata": {},
   "outputs": [],
   "source": [
    "# Here is the given code\n",
    "\n",
    "class Employee():\n",
    "    def __init__(name=''):\n",
    "        self.name = name\n",
    "    \n",
    "    def get_info(self):\n",
    "        print(self.name, \"is in the team.\")"
   ]
  },
  {
   "cell_type": "markdown",
   "id": "acb30dc5",
   "metadata": {},
   "source": [
    "&#9989; **Question 4.1 (5 points):** Write a new class called \"Member\" which inherits from \"Employee\". This Member class should be designed such that each member has an attribute `progress` consisting of 3 random floating numbers between 0 and 100. Each member should also have a class method which prints that member's progress on all the three projects."
   ]
  },
  {
   "cell_type": "code",
   "execution_count": null,
   "id": "72a46587",
   "metadata": {},
   "outputs": [],
   "source": [
    "### Put your code here\n",
    "\n"
   ]
  },
  {
   "cell_type": "markdown",
   "id": "4b107a3b",
   "metadata": {},
   "source": [
    "&#9989; **Question 4.2 (5 points):** Use your Member class to create a list of N=5 members with names \"member0, member1, member2, ..., member4\" and test the progress method you created for one of the members.\n"
   ]
  },
  {
   "cell_type": "code",
   "execution_count": null,
   "id": "02c2f78e",
   "metadata": {},
   "outputs": [],
   "source": [
    "### Put your code here\n",
    "\n"
   ]
  },
  {
   "cell_type": "markdown",
   "id": "7e7667b1",
   "metadata": {},
   "source": [
    "&#9989; **Question 4.3 (8 points):** Write another new class called \"Supervisor\" which also inherits from \"Employee\". Each supervisor should have a method that takes a list of N members as input argument and checks their progress on a specific project (0, 1, or 2). This method should work in the following way:\n",
    "\n",
    "\n",
    ">When the method is called to check the progress on a project, it prints each member's name and his/her corresponding progress on this project in an increasing order. For example, if N=3 and the progress of member0, member1, member2 on project 1 are respectively 55.865, 98.324, 32.159, then the output should be: <br>\n",
    "\n",
    ">member2, 32.159 <br>\n",
    "member0, 55.865 <br>\n",
    "member1, 98.324 <br>\n",
    "\n",
    "\n",
    "Of course, one should be able to use the method for project 0 and project 2 as well. Finally, create 1 supervisor and assign your favorite name to it.\n"
   ]
  },
  {
   "cell_type": "code",
   "execution_count": null,
   "id": "c8f4e1e2",
   "metadata": {},
   "outputs": [],
   "source": [
    "### Put your code here\n",
    "\n"
   ]
  },
  {
   "cell_type": "markdown",
   "id": "beee3a22",
   "metadata": {
    "tags": []
   },
   "source": [
    "---\n",
    "### &#128721; STOP (1 point)\n",
    "**Pause to commit your changes to your Git repository!**\n",
    "\n",
    "Take a moment to save your notebook, commit  and push the changes to your Git repository.\n",
    "\n",
    "---"
   ]
  },
  {
   "cell_type": "markdown",
   "id": "8185a737",
   "metadata": {
    "jp-MarkdownHeadingCollapsed": true,
    "tags": []
   },
   "source": [
    "## You're done! Congrats on finishing your CMSE 202 Midterm!\n",
    "\n",
    "Make sure all of your changes to your repository are committed and pushed to GitHub. Also upload a copy of this notebook to the dropbox on D2L in case something went wrong with your repository or if you couldn't get the repository to work."
   ]
  }
 ],
 "metadata": {
  "kernelspec": {
   "display_name": "Python 3.11 (default)",
   "language": "python",
   "name": "python3"
  },
  "language_info": {
   "codemirror_mode": {
    "name": "ipython",
    "version": 3
   },
   "file_extension": ".py",
   "mimetype": "text/x-python",
   "name": "python",
   "nbconvert_exporter": "python",
   "pygments_lexer": "ipython3",
   "version": "3.11.6"
  }
 },
 "nbformat": 4,
 "nbformat_minor": 5
}
